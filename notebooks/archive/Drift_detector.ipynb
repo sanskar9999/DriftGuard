{
  "nbformat": 4,
  "nbformat_minor": 0,
  "metadata": {
    "colab": {
      "provenance": [],
      "gpuType": "T4"
    },
    "kernelspec": {
      "name": "python3",
      "display_name": "Python 3"
    },
    "language_info": {
      "name": "python"
    },
    "accelerator": "GPU"
  },
  "cells": [
    {
      "cell_type": "code",
      "execution_count": null,
      "metadata": {
        "colab": {
          "base_uri": "https://localhost:8080/"
        },
        "id": "Qbz-TAFheSN_",
        "outputId": "78b07cc1-a38a-4c11-a0d6-3788cc6404eb"
      },
      "outputs": [
        {
          "output_type": "stream",
          "name": "stdout",
          "text": [
            "Downloading from https://www.kaggle.com/api/v1/datasets/download/s3programmerlead/personalized-anesthesia-management-dataset?dataset_version_number=1...\n"
          ]
        },
        {
          "output_type": "stream",
          "name": "stderr",
          "text": [
            "100%|██████████| 3.92k/3.92k [00:00<00:00, 5.73MB/s]"
          ]
        },
        {
          "output_type": "stream",
          "name": "stdout",
          "text": [
            "Extracting files...\n",
            "Dataset downloaded to: /root/.cache/kagglehub/datasets/s3programmerlead/personalized-anesthesia-management-dataset/versions/1\n",
            "\n",
            "First 5 rows of the dataset:\n",
            "   PatientID  Age Gender  BMI     SurgeryType SurgeryDuration AnesthesiaType  \\\n",
            "0          1   33      M   32    Neurological         217 min          Local   \n",
            "1          2   33      M   23  Cardiovascular         181 min          Local   \n",
            "2          3   58      F   24      Orthopedic          79 min        General   \n",
            "3          4   65      F   26      Orthopedic         210 min          Local   \n",
            "4          5   65      M   28    Neurological         221 min        General   \n",
            "\n",
            "        PreoperativeNotes              PostoperativeNotes  PainLevel  \\\n",
            "0  Hypertension, diabetes  Minimal pain, no complications          7   \n",
            "1    Stable, no allergies  Minimal pain, no complications          7   \n",
            "2    Stable, no allergies  Minimal pain, no complications          3   \n",
            "3    Stable, no allergies             Pain, slow recovery          7   \n",
            "4    Stable, no allergies             Pain, slow recovery          5   \n",
            "\n",
            "           Complications  Outcome  \n",
            "0                    NaN        0  \n",
            "1  Nausea, mild bleeding        1  \n",
            "2  Nausea, mild bleeding        1  \n",
            "3       Delayed recovery        1  \n",
            "4   Respiratory distress        0  \n",
            "\n",
            "Dataset Information:\n",
            "<class 'pandas.core.frame.DataFrame'>\n",
            "RangeIndex: 300 entries, 0 to 299\n",
            "Data columns (total 12 columns):\n",
            " #   Column              Non-Null Count  Dtype \n",
            "---  ------              --------------  ----- \n",
            " 0   PatientID           300 non-null    int64 \n",
            " 1   Age                 300 non-null    int64 \n",
            " 2   Gender              300 non-null    object\n",
            " 3   BMI                 300 non-null    int64 \n",
            " 4   SurgeryType         300 non-null    object\n",
            " 5   SurgeryDuration     300 non-null    object\n",
            " 6   AnesthesiaType      300 non-null    object\n",
            " 7   PreoperativeNotes   300 non-null    object\n",
            " 8   PostoperativeNotes  300 non-null    object\n",
            " 9   PainLevel           300 non-null    int64 \n",
            " 10  Complications       227 non-null    object\n",
            " 11  Outcome             300 non-null    int64 \n",
            "dtypes: int64(5), object(7)\n",
            "memory usage: 28.3+ KB\n"
          ]
        },
        {
          "output_type": "stream",
          "name": "stderr",
          "text": [
            "\n"
          ]
        }
      ],
      "source": [
        "!pip install kagglehub scikit-learn --quiet\n",
        "\n",
        "import kagglehub\n",
        "import pandas as pd\n",
        "import os\n",
        "\n",
        "path = kagglehub.dataset_download(\"s3programmerlead/personalized-anesthesia-management-dataset\")\n",
        "\n",
        "print(f\"Dataset downloaded to: {path}\")\n",
        "\n",
        "csv_file_path = os.path.join(path, \"Anesthesia_Dataset.csv\")\n",
        "df = pd.read_csv(csv_file_path)\n",
        "\n",
        "print(\"\\nFirst 5 rows of the dataset:\")\n",
        "print(df.head())\n",
        "\n",
        "print(\"\\nDataset Information:\")\n",
        "df.info()"
      ]
    },
    {
      "cell_type": "code",
      "source": [
        "from sklearn.model_selection import train_test_split\n",
        "\n",
        "df['SurgeryDuration'] = df['SurgeryDuration'].str.replace(' min', '').astype(int)\n",
        "\n",
        "df_cleaned = df.drop(columns=['PatientID', 'PostoperativeNotes', 'Complications'])\n",
        "\n",
        "df_processed = pd.get_dummies(df_cleaned, drop_first=True)\n",
        "\n",
        "X = df_processed.drop('Outcome', axis=1)\n",
        "y = df_processed['Outcome']\n",
        "\n",
        "X_train, X_test, y_train, y_test = train_test_split(X, y, test_size=0.2, random_state=42, stratify=y)\n",
        "\n",
        "print(\"Shape of training features:\", X_train.shape)\n",
        "print(\"Shape of testing features:\", X_test.shape)\n",
        "print(\"\\nProcessed feature columns:\")\n",
        "print(X_train.columns)\n",
        "print(\"\\nFirst 5 rows of the processed training data:\")\n",
        "print(X_train.head())"
      ],
      "metadata": {
        "colab": {
          "base_uri": "https://localhost:8080/"
        },
        "id": "-Z2Rq2-sfOp8",
        "outputId": "2226b0d0-0b35-498e-cff1-f4b1f71ee8ce"
      },
      "execution_count": null,
      "outputs": [
        {
          "output_type": "stream",
          "name": "stdout",
          "text": [
            "Shape of training features: (240, 10)\n",
            "Shape of testing features: (60, 10)\n",
            "\n",
            "Processed feature columns:\n",
            "Index(['Age', 'BMI', 'SurgeryDuration', 'PainLevel', 'Gender_M',\n",
            "       'SurgeryType_Cosmetic', 'SurgeryType_Neurological',\n",
            "       'SurgeryType_Orthopedic', 'AnesthesiaType_Local',\n",
            "       'PreoperativeNotes_Stable, no allergies'],\n",
            "      dtype='object')\n",
            "\n",
            "First 5 rows of the processed training data:\n",
            "     Age  BMI  SurgeryDuration  PainLevel  Gender_M  SurgeryType_Cosmetic  \\\n",
            "60    33   24              210          2      True                  True   \n",
            "15    72   23              188          2     False                 False   \n",
            "29    33   24              188          3     False                 False   \n",
            "135   72   26              115          5     False                 False   \n",
            "83    72   23              139          3     False                 False   \n",
            "\n",
            "     SurgeryType_Neurological  SurgeryType_Orthopedic  AnesthesiaType_Local  \\\n",
            "60                      False                   False                 False   \n",
            "15                      False                   False                 False   \n",
            "29                       True                   False                  True   \n",
            "135                      True                   False                  True   \n",
            "83                      False                    True                  True   \n",
            "\n",
            "     PreoperativeNotes_Stable, no allergies  \n",
            "60                                     True  \n",
            "15                                    False  \n",
            "29                                    False  \n",
            "135                                    True  \n",
            "83                                    False  \n"
          ]
        }
      ]
    },
    {
      "cell_type": "code",
      "source": [
        "from sklearn.ensemble import RandomForestClassifier\n",
        "from sklearn.metrics import accuracy_score, classification_report\n",
        "\n",
        "model = RandomForestClassifier(n_estimators=100, random_state=42)\n",
        "\n",
        "model.fit(X_train, y_train)\n",
        "\n",
        "y_pred = model.predict(X_test)\n",
        "\n",
        "accuracy = accuracy_score(y_test, y_pred)\n",
        "print(f\"Model Accuracy: {accuracy:.2f}\")\n",
        "\n",
        "print(\"\\nClassification Report:\")\n",
        "print(classification_report(y_test, y_pred))\n",
        "\n",
        "importances = model.feature_importances_\n",
        "feature_names = X_train.columns\n",
        "\n",
        "feature_importance_df = pd.DataFrame({'Feature': feature_names, 'Importance': importances})\n",
        "feature_importance_df = feature_importance_df.sort_values(by='Importance', ascending=False)\n",
        "\n",
        "print(\"\\nFeature Importances (Most important first):\")\n",
        "print(feature_importance_df)"
      ],
      "metadata": {
        "colab": {
          "base_uri": "https://localhost:8080/"
        },
        "id": "Q0Ko86MbfhSy",
        "outputId": "1bdd0f13-4279-4803-f145-93ba7e9c08e9"
      },
      "execution_count": null,
      "outputs": [
        {
          "output_type": "stream",
          "name": "stdout",
          "text": [
            "Model Accuracy: 0.53\n",
            "\n",
            "Classification Report:\n",
            "              precision    recall  f1-score   support\n",
            "\n",
            "           0       0.53      0.57      0.55        30\n",
            "           1       0.54      0.50      0.52        30\n",
            "\n",
            "    accuracy                           0.53        60\n",
            "   macro avg       0.53      0.53      0.53        60\n",
            "weighted avg       0.53      0.53      0.53        60\n",
            "\n",
            "\n",
            "Feature Importances (Most important first):\n",
            "                                  Feature  Importance\n",
            "2                         SurgeryDuration    0.282456\n",
            "0                                     Age    0.145882\n",
            "3                               PainLevel    0.145830\n",
            "1                                     BMI    0.139813\n",
            "4                                Gender_M    0.061064\n",
            "9  PreoperativeNotes_Stable, no allergies    0.058198\n",
            "8                    AnesthesiaType_Local    0.055836\n",
            "5                    SurgeryType_Cosmetic    0.038181\n",
            "7                  SurgeryType_Orthopedic    0.036807\n",
            "6                SurgeryType_Neurological    0.035932\n"
          ]
        }
      ]
    }
  ]
}